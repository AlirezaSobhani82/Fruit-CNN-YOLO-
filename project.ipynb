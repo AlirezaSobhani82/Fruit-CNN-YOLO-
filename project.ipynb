{
 "cells": [
  {
   "cell_type": "code",
   "id": "initial_id",
   "metadata": {
    "collapsed": true,
    "ExecuteTime": {
     "end_time": "2025-08-22T09:21:55.280651Z",
     "start_time": "2025-08-22T09:21:53.403193Z"
    }
   },
   "source": "from ultralytics import YOLO",
   "outputs": [],
   "execution_count": 1
  },
  {
   "metadata": {
    "ExecuteTime": {
     "end_time": "2025-08-22T09:21:55.393638Z",
     "start_time": "2025-08-22T09:21:55.285688Z"
    }
   },
   "cell_type": "code",
   "source": "model = YOLO(\"yolov8n.pt\")",
   "id": "e091bd9d12e9a041",
   "outputs": [],
   "execution_count": 2
  },
  {
   "metadata": {},
   "cell_type": "code",
   "source": [
    "train_model = model.train(data=\"E:\\\\My projects\\\\Fruit(CNN,YOLO)\\\\data.yaml\",\n",
    "                          imgsz=640,\n",
    "                          epochs=30,\n",
    "                          save=True)"
   ],
   "id": "f0af6ae2ed7f1d41",
   "outputs": [],
   "execution_count": null
  },
  {
   "metadata": {
    "ExecuteTime": {
     "end_time": "2025-08-22T10:21:06.308116Z",
     "start_time": "2025-08-22T10:20:38.466566Z"
    }
   },
   "cell_type": "code",
   "source": [
    "from ultralytics import YOLO\n",
    "import cv2\n",
    "import os\n",
    "\n",
    "model = YOLO(\"E:\\\\My projects\\\\Fruit(CNN,YOLO)\\\\runs\\\\detect\\\\train\\\\weights\\\\best.pt\")\n",
    "\n",
    "results = model.predict(source=\"E:\\\\My projects\\\\Fruit(CNN,YOLO)\\\\Test File\\\\images\", save=False)\n",
    "\n",
    "output_dir = \"E:\\\\My projects\\\\Fruit(CNN,YOLO)\\\\Cropped\"\n",
    "os.makedirs(output_dir, exist_ok=True)\n",
    "\n",
    "for i, result in enumerate(results):\n",
    "    img = cv2.imread(result.path)\n",
    "    for j, box in enumerate(result.boxes.xyxy):\n",
    "        x1, y1, x2, y2 = map(int, box)\n",
    "        crop = img[y1:y2, x1:x2]\n",
    "        cv2.imwrite(f\"{output_dir}/img_{i}_{j}.jpg\", crop)"
   ],
   "id": "6e662e294f6d14a0",
   "outputs": [
    {
     "name": "stdout",
     "output_type": "stream",
     "text": [
      "\n",
      "image 1/80 E:\\My projects\\Fruit(CNN,YOLO)\\Test File\\images\\33_Apple.jpg: 384x640 2 Bananas, 78.0ms\n",
      "image 2/80 E:\\My projects\\Fruit(CNN,YOLO)\\Test File\\images\\33_Banana.jpg: 640x480 (no detections), 101.7ms\n",
      "image 3/80 E:\\My projects\\Fruit(CNN,YOLO)\\Test File\\images\\33_Grapes.jpg: 416x640 (no detections), 79.1ms\n",
      "image 4/80 E:\\My projects\\Fruit(CNN,YOLO)\\Test File\\images\\33_Guava.jpg: 480x640 1 Banana, 89.6ms\n",
      "image 5/80 E:\\My projects\\Fruit(CNN,YOLO)\\Test File\\images\\33_HogPlum.jpg: 448x640 1 Banana, 80.7ms\n",
      "image 6/80 E:\\My projects\\Fruit(CNN,YOLO)\\Test File\\images\\33_Jackfruit.jpg: 448x640 2 Bananas, 75.1ms\n",
      "image 7/80 E:\\My projects\\Fruit(CNN,YOLO)\\Test File\\images\\33_Litchi.jpg: 448x640 4 Bananas, 70.2ms\n",
      "image 8/80 E:\\My projects\\Fruit(CNN,YOLO)\\Test File\\images\\33_Mango.jpg: 640x480 6 Bananas, 81.1ms\n",
      "image 9/80 E:\\My projects\\Fruit(CNN,YOLO)\\Test File\\images\\33_Orange.jpg: 448x640 2 Bananas, 71.8ms\n",
      "image 10/80 E:\\My projects\\Fruit(CNN,YOLO)\\Test File\\images\\33_Papaya.jpg: 448x640 1 Banana, 86.4ms\n",
      "image 11/80 E:\\My projects\\Fruit(CNN,YOLO)\\Test File\\images\\34_Apple.jpg: 448x640 (no detections), 67.8ms\n",
      "image 12/80 E:\\My projects\\Fruit(CNN,YOLO)\\Test File\\images\\34_Banana.jpg: 640x448 4 Bananas, 75.8ms\n",
      "image 13/80 E:\\My projects\\Fruit(CNN,YOLO)\\Test File\\images\\34_Grapes.jpg: 448x640 1 Banana, 67.7ms\n",
      "image 14/80 E:\\My projects\\Fruit(CNN,YOLO)\\Test File\\images\\34_Guava.jpg: 384x640 2 Bananas, 63.0ms\n",
      "image 15/80 E:\\My projects\\Fruit(CNN,YOLO)\\Test File\\images\\34_HogPlum.jpg: 448x640 1 Banana, 72.0ms\n",
      "image 16/80 E:\\My projects\\Fruit(CNN,YOLO)\\Test File\\images\\34_Jackfruit.jpg: 640x448 1 Banana, 71.6ms\n",
      "image 17/80 E:\\My projects\\Fruit(CNN,YOLO)\\Test File\\images\\34_Litchi.jpg: 448x640 2 Bananas, 67.7ms\n",
      "image 18/80 E:\\My projects\\Fruit(CNN,YOLO)\\Test File\\images\\34_Mango.jpg: 640x448 3 Bananas, 99.7ms\n",
      "image 19/80 E:\\My projects\\Fruit(CNN,YOLO)\\Test File\\images\\34_Orange.jpg: 448x640 1 Banana, 72.1ms\n",
      "image 20/80 E:\\My projects\\Fruit(CNN,YOLO)\\Test File\\images\\34_Papaya.jpg: 448x640 1 Banana, 70.2ms\n",
      "image 21/80 E:\\My projects\\Fruit(CNN,YOLO)\\Test File\\images\\35_Apple.jpg: 448x640 (no detections), 64.3ms\n",
      "image 22/80 E:\\My projects\\Fruit(CNN,YOLO)\\Test File\\images\\35_Banana.jpg: 640x448 1 Banana, 70.3ms\n",
      "image 23/80 E:\\My projects\\Fruit(CNN,YOLO)\\Test File\\images\\35_Grapes.jpg: 320x640 3 Bananas, 66.3ms\n",
      "image 24/80 E:\\My projects\\Fruit(CNN,YOLO)\\Test File\\images\\35_Guava.jpg: 448x640 2 Bananas, 70.8ms\n",
      "image 25/80 E:\\My projects\\Fruit(CNN,YOLO)\\Test File\\images\\35_HogPlum.jpg: 448x640 1 Banana, 65.4ms\n",
      "image 26/80 E:\\My projects\\Fruit(CNN,YOLO)\\Test File\\images\\35_Jackfruit.jpg: 640x448 1 Banana, 83.7ms\n",
      "image 27/80 E:\\My projects\\Fruit(CNN,YOLO)\\Test File\\images\\35_Litchi.jpg: 320x640 (no detections), 64.1ms\n",
      "image 28/80 E:\\My projects\\Fruit(CNN,YOLO)\\Test File\\images\\35_Mango.jpg: 448x640 1 Banana, 72.1ms\n",
      "image 29/80 E:\\My projects\\Fruit(CNN,YOLO)\\Test File\\images\\35_Orange.jpg: 448x640 6 Bananas, 67.0ms\n",
      "image 30/80 E:\\My projects\\Fruit(CNN,YOLO)\\Test File\\images\\35_Papaya.jpg: 448x640 1 Banana, 72.9ms\n",
      "image 31/80 E:\\My projects\\Fruit(CNN,YOLO)\\Test File\\images\\36_Apple.jpg: 448x640 1 Banana, 84.9ms\n",
      "image 32/80 E:\\My projects\\Fruit(CNN,YOLO)\\Test File\\images\\36_Banana.jpg: 640x448 (no detections), 73.1ms\n",
      "image 33/80 E:\\My projects\\Fruit(CNN,YOLO)\\Test File\\images\\36_Grapes.jpg: 448x640 1 Banana, 72.5ms\n",
      "image 34/80 E:\\My projects\\Fruit(CNN,YOLO)\\Test File\\images\\36_Guava.jpg: 480x640 1 Banana, 85.1ms\n",
      "image 35/80 E:\\My projects\\Fruit(CNN,YOLO)\\Test File\\images\\36_HogPlum.jpg: 448x640 1 Banana, 85.4ms\n",
      "image 36/80 E:\\My projects\\Fruit(CNN,YOLO)\\Test File\\images\\36_Jackfruit.jpg: 448x640 (no detections), 75.0ms\n",
      "image 37/80 E:\\My projects\\Fruit(CNN,YOLO)\\Test File\\images\\36_Litchi.jpg: 448x640 1 Banana, 72.8ms\n",
      "image 38/80 E:\\My projects\\Fruit(CNN,YOLO)\\Test File\\images\\36_Mango.jpg: 480x640 5 Bananas, 136.8ms\n",
      "image 39/80 E:\\My projects\\Fruit(CNN,YOLO)\\Test File\\images\\36_Orange.jpg: 448x640 6 Bananas, 117.4ms\n",
      "image 40/80 E:\\My projects\\Fruit(CNN,YOLO)\\Test File\\images\\36_Papaya.jpg: 384x640 2 Bananas, 116.8ms\n",
      "image 41/80 E:\\My projects\\Fruit(CNN,YOLO)\\Test File\\images\\37_Apple.jpg: 448x640 (no detections), 103.8ms\n",
      "image 42/80 E:\\My projects\\Fruit(CNN,YOLO)\\Test File\\images\\37_Banana.jpg: 448x640 2 Bananas, 79.1ms\n",
      "image 43/80 E:\\My projects\\Fruit(CNN,YOLO)\\Test File\\images\\37_Grapes.jpg: 448x640 2 Bananas, 87.7ms\n",
      "image 44/80 E:\\My projects\\Fruit(CNN,YOLO)\\Test File\\images\\37_Guava.jpg: 448x640 6 Bananas, 103.7ms\n",
      "image 45/80 E:\\My projects\\Fruit(CNN,YOLO)\\Test File\\images\\37_HogPlum.jpg: 448x640 2 Bananas, 164.9ms\n",
      "image 46/80 E:\\My projects\\Fruit(CNN,YOLO)\\Test File\\images\\37_Jackfruit.jpg: 640x448 1 Banana, 74.6ms\n",
      "image 47/80 E:\\My projects\\Fruit(CNN,YOLO)\\Test File\\images\\37_Litchi.jpg: 448x640 2 Bananas, 96.7ms\n",
      "image 48/80 E:\\My projects\\Fruit(CNN,YOLO)\\Test File\\images\\37_Mango.jpg: 640x448 1 Banana, 81.9ms\n",
      "image 49/80 E:\\My projects\\Fruit(CNN,YOLO)\\Test File\\images\\37_Orange.jpg: 512x640 3 Bananas, 83.8ms\n",
      "image 50/80 E:\\My projects\\Fruit(CNN,YOLO)\\Test File\\images\\37_Papaya.jpg: 448x640 1 Banana, 68.2ms\n",
      "image 51/80 E:\\My projects\\Fruit(CNN,YOLO)\\Test File\\images\\38_Apple.jpg: 640x640 4 Bananas, 116.5ms\n",
      "image 52/80 E:\\My projects\\Fruit(CNN,YOLO)\\Test File\\images\\38_Banana.jpg: 640x448 2 Bananas, 82.5ms\n",
      "image 53/80 E:\\My projects\\Fruit(CNN,YOLO)\\Test File\\images\\38_Grapes.jpg: 416x640 1 Banana, 66.7ms\n",
      "image 54/80 E:\\My projects\\Fruit(CNN,YOLO)\\Test File\\images\\38_Guava.jpg: 384x640 1 Banana, 67.9ms\n",
      "image 55/80 E:\\My projects\\Fruit(CNN,YOLO)\\Test File\\images\\38_HogPlum.jpg: 416x640 (no detections), 81.0ms\n",
      "image 56/80 E:\\My projects\\Fruit(CNN,YOLO)\\Test File\\images\\38_Jackfruit.jpg: 448x640 3 Bananas, 66.4ms\n",
      "image 57/80 E:\\My projects\\Fruit(CNN,YOLO)\\Test File\\images\\38_Litchi.jpg: 480x640 2 Bananas, 69.8ms\n",
      "image 58/80 E:\\My projects\\Fruit(CNN,YOLO)\\Test File\\images\\38_Mango.jpg: 640x480 1 Banana, 85.8ms\n",
      "image 59/80 E:\\My projects\\Fruit(CNN,YOLO)\\Test File\\images\\38_Orange.jpg: 448x640 (no detections), 81.0ms\n",
      "image 60/80 E:\\My projects\\Fruit(CNN,YOLO)\\Test File\\images\\38_Papaya.jpg: 480x640 1 Banana, 99.3ms\n",
      "image 61/80 E:\\My projects\\Fruit(CNN,YOLO)\\Test File\\images\\39_Apple.jpg: 512x640 1 Banana, 107.1ms\n",
      "image 62/80 E:\\My projects\\Fruit(CNN,YOLO)\\Test File\\images\\39_Banana.jpg: 448x640 (no detections), 70.2ms\n",
      "image 63/80 E:\\My projects\\Fruit(CNN,YOLO)\\Test File\\images\\39_Grapes.jpg: 448x640 1 Banana, 67.9ms\n",
      "image 64/80 E:\\My projects\\Fruit(CNN,YOLO)\\Test File\\images\\39_Guava.jpg: 448x640 3 Bananas, 73.6ms\n",
      "image 65/80 E:\\My projects\\Fruit(CNN,YOLO)\\Test File\\images\\39_HogPlum.jpg: 448x640 1 Banana, 69.5ms\n",
      "image 66/80 E:\\My projects\\Fruit(CNN,YOLO)\\Test File\\images\\39_Jackfruit.jpg: 640x448 1 Banana, 77.5ms\n",
      "image 67/80 E:\\My projects\\Fruit(CNN,YOLO)\\Test File\\images\\39_Litchi.jpg: 384x640 1 Banana, 64.1ms\n",
      "image 68/80 E:\\My projects\\Fruit(CNN,YOLO)\\Test File\\images\\39_Mango.jpg: 640x576 6 Bananas, 101.0ms\n",
      "image 69/80 E:\\My projects\\Fruit(CNN,YOLO)\\Test File\\images\\39_Orange.jpg: 448x640 4 Bananas, 90.8ms\n",
      "image 70/80 E:\\My projects\\Fruit(CNN,YOLO)\\Test File\\images\\39_Papaya.jpg: 384x640 1 Banana, 77.6ms\n",
      "image 71/80 E:\\My projects\\Fruit(CNN,YOLO)\\Test File\\images\\40_Apple.jpg: 448x640 1 Banana, 168.9ms\n",
      "image 72/80 E:\\My projects\\Fruit(CNN,YOLO)\\Test File\\images\\40_Banana.jpg: 448x640 (no detections), 205.6ms\n",
      "image 73/80 E:\\My projects\\Fruit(CNN,YOLO)\\Test File\\images\\40_Grapes.jpg: 256x640 3 Bananas, 153.4ms\n",
      "image 74/80 E:\\My projects\\Fruit(CNN,YOLO)\\Test File\\images\\40_Guava.jpg: 384x640 2 Bananas, 178.2ms\n",
      "image 75/80 E:\\My projects\\Fruit(CNN,YOLO)\\Test File\\images\\40_HogPlum.jpg: 448x640 (no detections), 159.8ms\n",
      "image 76/80 E:\\My projects\\Fruit(CNN,YOLO)\\Test File\\images\\40_Jackfruit.jpg: 640x448 3 Bananas, 204.5ms\n",
      "image 77/80 E:\\My projects\\Fruit(CNN,YOLO)\\Test File\\images\\40_Litchi.jpg: 416x640 (no detections), 175.2ms\n",
      "image 78/80 E:\\My projects\\Fruit(CNN,YOLO)\\Test File\\images\\40_Mango.jpg: 640x448 2 Bananas, 326.5ms\n",
      "image 79/80 E:\\My projects\\Fruit(CNN,YOLO)\\Test File\\images\\40_Orange.jpg: 448x640 5 Bananas, 170.6ms\n",
      "image 80/80 E:\\My projects\\Fruit(CNN,YOLO)\\Test File\\images\\40_Papaya.jpg: 448x640 2 Bananas, 155.0ms\n",
      "Speed: 2.7ms preprocess, 95.2ms inference, 1.1ms postprocess per image at shape (1, 3, 448, 640)\n"
     ]
    }
   ],
   "execution_count": 11
  },
  {
   "metadata": {
    "ExecuteTime": {
     "end_time": "2025-08-22T10:41:35.522579Z",
     "start_time": "2025-08-22T10:41:11.612375Z"
    }
   },
   "cell_type": "code",
   "source": [
    "import tensorflow as tf\n",
    "from tensorflow.keras import layers, models\n",
    "\n",
    "model = models.Sequential([\n",
    "    layers.Input(shape=(64, 64, 3)),\n",
    "    layers.Conv2D(32, (3, 3), activation='relu'),\n",
    "    layers.MaxPooling2D(),\n",
    "    layers.Conv2D(64, (3, 3), activation='relu'),\n",
    "    layers.MaxPooling2D(),\n",
    "    layers.Flatten(),\n",
    "    layers.Dense(128, activation='relu'),\n",
    "    layers.Dense(9, activation='softmax')\n",
    "])\n",
    "\n",
    "model.compile(optimizer='adam',\n",
    "              loss='categorical_crossentropy',\n",
    "              metrics=['accuracy'])\n",
    "\n",
    "\n",
    "from tensorflow.keras.preprocessing.image import ImageDataGenerator\n",
    "\n",
    "datagen = ImageDataGenerator(rescale=1./255, validation_split=0.2)\n",
    "\n",
    "train_gen = datagen.flow_from_directory(\n",
    "    \"E:\\\\My projects\\\\Fruit(CNN,YOLO)\\\\Cropped\",\n",
    "    target_size=(64, 64),\n",
    "    batch_size=32,\n",
    "    class_mode='categorical',\n",
    "    subset='training'\n",
    ")\n",
    "\n",
    "val_gen = datagen.flow_from_directory(\n",
    "    \"E:\\\\My projects\\\\Fruit(CNN,YOLO)\\\\Cropped\",\n",
    "    target_size=(64, 64),\n",
    "    batch_size=32,\n",
    "    class_mode='categorical',\n",
    "    subset='validation'\n",
    ")\n",
    "\n",
    "model.fit(train_gen, validation_data=val_gen, epochs=20)"
   ],
   "id": "67d8399d6db755e",
   "outputs": [
    {
     "name": "stdout",
     "output_type": "stream",
     "text": [
      "Found 107 images belonging to 9 classes.\n",
      "Found 21 images belonging to 9 classes.\n",
      "Epoch 1/20\n",
      "\u001B[1m4/4\u001B[0m \u001B[32m━━━━━━━━━━━━━━━━━━━━\u001B[0m\u001B[37m\u001B[0m \u001B[1m3s\u001B[0m 447ms/step - accuracy: 0.1589 - loss: 2.4410 - val_accuracy: 0.2381 - val_loss: 2.1006\n",
      "Epoch 2/20\n",
      "\u001B[1m4/4\u001B[0m \u001B[32m━━━━━━━━━━━━━━━━━━━━\u001B[0m\u001B[37m\u001B[0m \u001B[1m1s\u001B[0m 343ms/step - accuracy: 0.2617 - loss: 1.9763 - val_accuracy: 0.2381 - val_loss: 1.9231\n",
      "Epoch 3/20\n",
      "\u001B[1m4/4\u001B[0m \u001B[32m━━━━━━━━━━━━━━━━━━━━\u001B[0m\u001B[37m\u001B[0m \u001B[1m1s\u001B[0m 307ms/step - accuracy: 0.4206 - loss: 1.7905 - val_accuracy: 0.2857 - val_loss: 1.6655\n",
      "Epoch 4/20\n",
      "\u001B[1m4/4\u001B[0m \u001B[32m━━━━━━━━━━━━━━━━━━━━\u001B[0m\u001B[37m\u001B[0m \u001B[1m1s\u001B[0m 215ms/step - accuracy: 0.4206 - loss: 1.5729 - val_accuracy: 0.3333 - val_loss: 1.4938\n",
      "Epoch 5/20\n",
      "\u001B[1m4/4\u001B[0m \u001B[32m━━━━━━━━━━━━━━━━━━━━\u001B[0m\u001B[37m\u001B[0m \u001B[1m1s\u001B[0m 238ms/step - accuracy: 0.5794 - loss: 1.2959 - val_accuracy: 0.4762 - val_loss: 1.3483\n",
      "Epoch 6/20\n",
      "\u001B[1m4/4\u001B[0m \u001B[32m━━━━━━━━━━━━━━━━━━━━\u001B[0m\u001B[37m\u001B[0m \u001B[1m1s\u001B[0m 260ms/step - accuracy: 0.7383 - loss: 1.0489 - val_accuracy: 0.5238 - val_loss: 1.2835\n",
      "Epoch 7/20\n",
      "\u001B[1m4/4\u001B[0m \u001B[32m━━━━━━━━━━━━━━━━━━━━\u001B[0m\u001B[37m\u001B[0m \u001B[1m1s\u001B[0m 273ms/step - accuracy: 0.7103 - loss: 0.8790 - val_accuracy: 0.4286 - val_loss: 1.2178\n",
      "Epoch 8/20\n",
      "\u001B[1m4/4\u001B[0m \u001B[32m━━━━━━━━━━━━━━━━━━━━\u001B[0m\u001B[37m\u001B[0m \u001B[1m1s\u001B[0m 239ms/step - accuracy: 0.7664 - loss: 0.7946 - val_accuracy: 0.5714 - val_loss: 1.3297\n",
      "Epoch 9/20\n",
      "\u001B[1m4/4\u001B[0m \u001B[32m━━━━━━━━━━━━━━━━━━━━\u001B[0m\u001B[37m\u001B[0m \u001B[1m1s\u001B[0m 290ms/step - accuracy: 0.8785 - loss: 0.5768 - val_accuracy: 0.6190 - val_loss: 1.1415\n",
      "Epoch 10/20\n",
      "\u001B[1m4/4\u001B[0m \u001B[32m━━━━━━━━━━━━━━━━━━━━\u001B[0m\u001B[37m\u001B[0m \u001B[1m1s\u001B[0m 293ms/step - accuracy: 0.8785 - loss: 0.4485 - val_accuracy: 0.6667 - val_loss: 0.9757\n",
      "Epoch 11/20\n",
      "\u001B[1m4/4\u001B[0m \u001B[32m━━━━━━━━━━━━━━━━━━━━\u001B[0m\u001B[37m\u001B[0m \u001B[1m1s\u001B[0m 200ms/step - accuracy: 0.8972 - loss: 0.3706 - val_accuracy: 0.6667 - val_loss: 0.9606\n",
      "Epoch 12/20\n",
      "\u001B[1m4/4\u001B[0m \u001B[32m━━━━━━━━━━━━━━━━━━━━\u001B[0m\u001B[37m\u001B[0m \u001B[1m1s\u001B[0m 261ms/step - accuracy: 0.9439 - loss: 0.2479 - val_accuracy: 0.6667 - val_loss: 1.0824\n",
      "Epoch 13/20\n",
      "\u001B[1m4/4\u001B[0m \u001B[32m━━━━━━━━━━━━━━━━━━━━\u001B[0m\u001B[37m\u001B[0m \u001B[1m1s\u001B[0m 238ms/step - accuracy: 0.9813 - loss: 0.1779 - val_accuracy: 0.7143 - val_loss: 1.0287\n",
      "Epoch 14/20\n",
      "\u001B[1m4/4\u001B[0m \u001B[32m━━━━━━━━━━━━━━━━━━━━\u001B[0m\u001B[37m\u001B[0m \u001B[1m1s\u001B[0m 297ms/step - accuracy: 0.9720 - loss: 0.1325 - val_accuracy: 0.7143 - val_loss: 1.0963\n",
      "Epoch 15/20\n",
      "\u001B[1m4/4\u001B[0m \u001B[32m━━━━━━━━━━━━━━━━━━━━\u001B[0m\u001B[37m\u001B[0m \u001B[1m1s\u001B[0m 227ms/step - accuracy: 0.9720 - loss: 0.0924 - val_accuracy: 0.6190 - val_loss: 1.2502\n",
      "Epoch 16/20\n",
      "\u001B[1m4/4\u001B[0m \u001B[32m━━━━━━━━━━━━━━━━━━━━\u001B[0m\u001B[37m\u001B[0m \u001B[1m1s\u001B[0m 240ms/step - accuracy: 1.0000 - loss: 0.0762 - val_accuracy: 0.5714 - val_loss: 1.2337\n",
      "Epoch 17/20\n",
      "\u001B[1m4/4\u001B[0m \u001B[32m━━━━━━━━━━━━━━━━━━━━\u001B[0m\u001B[37m\u001B[0m \u001B[1m1s\u001B[0m 297ms/step - accuracy: 1.0000 - loss: 0.0591 - val_accuracy: 0.5714 - val_loss: 1.3852\n",
      "Epoch 18/20\n",
      "\u001B[1m4/4\u001B[0m \u001B[32m━━━━━━━━━━━━━━━━━━━━\u001B[0m\u001B[37m\u001B[0m \u001B[1m1s\u001B[0m 248ms/step - accuracy: 1.0000 - loss: 0.0359 - val_accuracy: 0.7143 - val_loss: 1.4858\n",
      "Epoch 19/20\n",
      "\u001B[1m4/4\u001B[0m \u001B[32m━━━━━━━━━━━━━━━━━━━━\u001B[0m\u001B[37m\u001B[0m \u001B[1m1s\u001B[0m 298ms/step - accuracy: 1.0000 - loss: 0.0218 - val_accuracy: 0.7143 - val_loss: 1.2250\n",
      "Epoch 20/20\n",
      "\u001B[1m4/4\u001B[0m \u001B[32m━━━━━━━━━━━━━━━━━━━━\u001B[0m\u001B[37m\u001B[0m \u001B[1m1s\u001B[0m 283ms/step - accuracy: 1.0000 - loss: 0.0188 - val_accuracy: 0.6667 - val_loss: 1.2428\n"
     ]
    },
    {
     "data": {
      "text/plain": [
       "<keras.src.callbacks.history.History at 0x29e5dc61870>"
      ]
     },
     "execution_count": 14,
     "metadata": {},
     "output_type": "execute_result"
    }
   ],
   "execution_count": 14
  },
  {
   "metadata": {
    "ExecuteTime": {
     "end_time": "2025-08-22T10:51:17.917661Z",
     "start_time": "2025-08-22T10:51:17.806783Z"
    }
   },
   "cell_type": "code",
   "source": "model.save(\"E:/My projects/Fruit(CNN,YOLO)/cnn_model.keras\")",
   "id": "63450446e4b0235",
   "outputs": [],
   "execution_count": 16
  },
  {
   "metadata": {
    "ExecuteTime": {
     "end_time": "2025-08-22T10:53:11.466160Z",
     "start_time": "2025-08-22T10:53:11.081464Z"
    }
   },
   "cell_type": "code",
   "source": [
    "import numpy as np\n",
    "from tensorflow.keras.models import load_model\n",
    "from tensorflow.keras.preprocessing import image\n",
    "from tensorflow.keras.preprocessing.image import ImageDataGenerator\n",
    "import os\n",
    "\n",
    "\n",
    "model_path = \"E:\\\\My projects\\\\Fruit(CNN,YOLO)\\\\cnn_model.keras\"\n",
    "model = load_model(model_path)\n",
    "\n",
    "\n",
    "img_path = \"E:/My projects/Fruit(CNN,YOLO)/Test File/images/34_Banana.jpg\"\n",
    "\n",
    "img = image.load_img(img_path, target_size=(64, 64))\n",
    "img_array = image.img_to_array(img)\n",
    "img_array = np.expand_dims(img_array, axis=0)\n",
    "img_array /= 255.0\n",
    "\n",
    "pred = model.predict(img_array)\n",
    "pred_class = np.argmax(pred, axis=1)[0]\n",
    "\n",
    "\n",
    "datagen = ImageDataGenerator(rescale=1./255, validation_split=0.2)\n",
    "train_gen = datagen.flow_from_directory(\n",
    "    \"E:/My projects/Fruit(CNN,YOLO)/Cropped\",\n",
    "    target_size=(64, 64),\n",
    "    batch_size=32,\n",
    "    class_mode='categorical',\n",
    "    subset='training'\n",
    ")\n",
    "\n",
    "class_indices = train_gen.class_indices\n",
    "inv_map = {v: k for k, v in class_indices.items()}\n",
    "\n",
    "print(f\"Predicted class for the image: {inv_map[pred_class]}\")"
   ],
   "id": "fd73df17a0dad40a",
   "outputs": [
    {
     "name": "stdout",
     "output_type": "stream",
     "text": [
      "\u001B[1m1/1\u001B[0m \u001B[32m━━━━━━━━━━━━━━━━━━━━\u001B[0m\u001B[37m\u001B[0m \u001B[1m0s\u001B[0m 80ms/step\n",
      "Found 107 images belonging to 9 classes.\n",
      "Predicted class for the image: Banana\n"
     ]
    }
   ],
   "execution_count": 20
  },
  {
   "metadata": {},
   "cell_type": "code",
   "outputs": [],
   "execution_count": null,
   "source": "git push -u origin master",
   "id": "b6e3908ea22ce4a1"
  },
  {
   "metadata": {},
   "cell_type": "code",
   "outputs": [],
   "execution_count": null,
   "source": "",
   "id": "6120c2ae75f89f19"
  }
 ],
 "metadata": {
  "kernelspec": {
   "display_name": "Python 3",
   "language": "python",
   "name": "python3"
  },
  "language_info": {
   "codemirror_mode": {
    "name": "ipython",
    "version": 2
   },
   "file_extension": ".py",
   "mimetype": "text/x-python",
   "name": "python",
   "nbconvert_exporter": "python",
   "pygments_lexer": "ipython2",
   "version": "2.7.6"
  }
 },
 "nbformat": 4,
 "nbformat_minor": 5
}
